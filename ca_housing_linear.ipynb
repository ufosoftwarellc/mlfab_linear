{
 "cells": [
  {
   "cell_type": "markdown",
   "id": "b24d00b3-38ed-4318-97fa-b28fe541e592",
   "metadata": {},
   "source": [
    "# Linear Regression\n",
    "## California Housing Price Prediction\n",
    "## Introduction\n",
    "This is a homework assignment for the __[Machine Learning For Absolute Beginners](https://mlearnfab.github.io/web/intro.html)__ class where linear regression is used to predict housing prices in California.\n",
    "## Problem Statement\n",
    "Build a model using linear regression that will accurately predict California housing prices\n",
    "## Input\n",
    "The cleaned dataset from the ca_housing_data_cleaning.ipynb notebook\n",
    "## Output\n",
    "1. A linear regression model that predicts the prices of houses using the California Housing Dataset\n",
    "2. Metrics that describe the performance of the linear model\n",
    "\n",
    "MIT License\n",
    "\n",
    "Copyright (c) 2022 UFO Software, LLC\n",
    "\n",
    "Permission is hereby granted, free of charge, to any person obtaining a copy of this software and associated documentation files (the \"Software\"), to deal in the Software without restriction, including without limitation the rights to use, copy, modify, merge, publish, distribute, sublicense, and/or sell copies of the Software, and to permit persons to whom the Software is furnished to do so, subject to the following conditions:\n",
    "\n",
    "The above copyright notice and this permission notice shall be included in all copies or substantial portions of the Software.\n",
    "\n",
    "THE SOFTWARE IS PROVIDED \"AS IS\", WITHOUT WARRANTY OF ANY KIND, EXPRESS OR IMPLIED, INCLUDING BUT NOT LIMITED TO THE WARRANTIES OF MERCHANTABILITY, FITNESS FOR A PARTICULAR PURPOSE AND NONINFRINGEMENT. IN NO EVENT SHALL THE AUTHORS OR COPYRIGHT HOLDERS BE LIABLE FOR ANY CLAIM, DAMAGES OR OTHER LIABILITY, WHETHER IN AN ACTION OF CONTRACT, TORT OR OTHERWISE, ARISING FROM, OUT OF OR IN CONNECTION WITH THE SOFTWARE OR THE USE OR OTHER DEALINGS IN THE SOFTWARE."
   ]
  },
  {
   "cell_type": "code",
   "execution_count": 1,
   "id": "3745282b-c0d0-4d6a-9ddc-3e7f7c0db05d",
   "metadata": {},
   "outputs": [],
   "source": [
    "import pandas as pd\n",
    "import numpy as np\n",
    "import plotly.express as px\n",
    "import plotly.graph_objects as go\n",
    "import matplotlib.pyplot as plt\n",
    "import seaborn as sns\n",
    "from sklearn.pipeline import make_pipeline\n",
    "from sklearn.model_selection import cross_validate\n",
    "from sklearn.linear_model import LinearRegression\n",
    "from sklearn.preprocessing import StandardScaler"
   ]
  },
  {
   "cell_type": "markdown",
   "id": "a6d9e89f-55e9-4a21-9acd-0c4f30b449dc",
   "metadata": {},
   "source": [
    "## Read in the cleaned data"
   ]
  },
  {
   "cell_type": "code",
   "execution_count": 2,
   "id": "61fb8369-a75a-4990-ae67-63771251a629",
   "metadata": {},
   "outputs": [
    {
     "data": {
      "text/html": [
       "<div>\n",
       "<style scoped>\n",
       "    .dataframe tbody tr th:only-of-type {\n",
       "        vertical-align: middle;\n",
       "    }\n",
       "\n",
       "    .dataframe tbody tr th {\n",
       "        vertical-align: top;\n",
       "    }\n",
       "\n",
       "    .dataframe thead th {\n",
       "        text-align: right;\n",
       "    }\n",
       "</style>\n",
       "<table border=\"1\" class=\"dataframe\">\n",
       "  <thead>\n",
       "    <tr style=\"text-align: right;\">\n",
       "      <th></th>\n",
       "      <th>MedInc</th>\n",
       "      <th>HouseAge</th>\n",
       "      <th>AveRooms</th>\n",
       "      <th>AveBedrms</th>\n",
       "      <th>Population</th>\n",
       "      <th>AveOccup</th>\n",
       "      <th>Latitude</th>\n",
       "      <th>Longitude</th>\n",
       "      <th>Price</th>\n",
       "    </tr>\n",
       "  </thead>\n",
       "  <tbody>\n",
       "    <tr>\n",
       "      <th>0</th>\n",
       "      <td>8.3252</td>\n",
       "      <td>41</td>\n",
       "      <td>6.984127</td>\n",
       "      <td>1.023810</td>\n",
       "      <td>322</td>\n",
       "      <td>2.555556</td>\n",
       "      <td>37.88</td>\n",
       "      <td>-122.23</td>\n",
       "      <td>4.526</td>\n",
       "    </tr>\n",
       "    <tr>\n",
       "      <th>1</th>\n",
       "      <td>8.3014</td>\n",
       "      <td>21</td>\n",
       "      <td>6.238137</td>\n",
       "      <td>0.971880</td>\n",
       "      <td>2401</td>\n",
       "      <td>2.109842</td>\n",
       "      <td>37.86</td>\n",
       "      <td>-122.22</td>\n",
       "      <td>3.585</td>\n",
       "    </tr>\n",
       "    <tr>\n",
       "      <th>2</th>\n",
       "      <td>7.2574</td>\n",
       "      <td>52</td>\n",
       "      <td>8.288136</td>\n",
       "      <td>1.073446</td>\n",
       "      <td>496</td>\n",
       "      <td>2.802260</td>\n",
       "      <td>37.85</td>\n",
       "      <td>-122.24</td>\n",
       "      <td>3.521</td>\n",
       "    </tr>\n",
       "    <tr>\n",
       "      <th>3</th>\n",
       "      <td>5.6431</td>\n",
       "      <td>52</td>\n",
       "      <td>5.817352</td>\n",
       "      <td>1.073059</td>\n",
       "      <td>558</td>\n",
       "      <td>2.547945</td>\n",
       "      <td>37.85</td>\n",
       "      <td>-122.25</td>\n",
       "      <td>3.413</td>\n",
       "    </tr>\n",
       "    <tr>\n",
       "      <th>4</th>\n",
       "      <td>3.8462</td>\n",
       "      <td>52</td>\n",
       "      <td>6.281853</td>\n",
       "      <td>1.081081</td>\n",
       "      <td>565</td>\n",
       "      <td>2.181467</td>\n",
       "      <td>37.85</td>\n",
       "      <td>-122.25</td>\n",
       "      <td>3.422</td>\n",
       "    </tr>\n",
       "    <tr>\n",
       "      <th>...</th>\n",
       "      <td>...</td>\n",
       "      <td>...</td>\n",
       "      <td>...</td>\n",
       "      <td>...</td>\n",
       "      <td>...</td>\n",
       "      <td>...</td>\n",
       "      <td>...</td>\n",
       "      <td>...</td>\n",
       "      <td>...</td>\n",
       "    </tr>\n",
       "    <tr>\n",
       "      <th>20417</th>\n",
       "      <td>1.5603</td>\n",
       "      <td>25</td>\n",
       "      <td>5.045455</td>\n",
       "      <td>1.133333</td>\n",
       "      <td>845</td>\n",
       "      <td>2.560606</td>\n",
       "      <td>39.48</td>\n",
       "      <td>-121.09</td>\n",
       "      <td>0.781</td>\n",
       "    </tr>\n",
       "    <tr>\n",
       "      <th>20418</th>\n",
       "      <td>2.5568</td>\n",
       "      <td>18</td>\n",
       "      <td>6.114035</td>\n",
       "      <td>1.315789</td>\n",
       "      <td>356</td>\n",
       "      <td>3.122807</td>\n",
       "      <td>39.49</td>\n",
       "      <td>-121.21</td>\n",
       "      <td>0.771</td>\n",
       "    </tr>\n",
       "    <tr>\n",
       "      <th>20419</th>\n",
       "      <td>1.7000</td>\n",
       "      <td>17</td>\n",
       "      <td>5.205543</td>\n",
       "      <td>1.120092</td>\n",
       "      <td>1007</td>\n",
       "      <td>2.325635</td>\n",
       "      <td>39.43</td>\n",
       "      <td>-121.22</td>\n",
       "      <td>0.923</td>\n",
       "    </tr>\n",
       "    <tr>\n",
       "      <th>20420</th>\n",
       "      <td>1.8672</td>\n",
       "      <td>18</td>\n",
       "      <td>5.329513</td>\n",
       "      <td>1.171920</td>\n",
       "      <td>741</td>\n",
       "      <td>2.123209</td>\n",
       "      <td>39.43</td>\n",
       "      <td>-121.32</td>\n",
       "      <td>0.847</td>\n",
       "    </tr>\n",
       "    <tr>\n",
       "      <th>20421</th>\n",
       "      <td>2.3886</td>\n",
       "      <td>16</td>\n",
       "      <td>5.254717</td>\n",
       "      <td>1.162264</td>\n",
       "      <td>1387</td>\n",
       "      <td>2.616981</td>\n",
       "      <td>39.37</td>\n",
       "      <td>-121.24</td>\n",
       "      <td>0.894</td>\n",
       "    </tr>\n",
       "  </tbody>\n",
       "</table>\n",
       "<p>20422 rows × 9 columns</p>\n",
       "</div>"
      ],
      "text/plain": [
       "       MedInc  HouseAge  AveRooms  AveBedrms  Population  AveOccup  Latitude  \\\n",
       "0      8.3252        41  6.984127   1.023810         322  2.555556     37.88   \n",
       "1      8.3014        21  6.238137   0.971880        2401  2.109842     37.86   \n",
       "2      7.2574        52  8.288136   1.073446         496  2.802260     37.85   \n",
       "3      5.6431        52  5.817352   1.073059         558  2.547945     37.85   \n",
       "4      3.8462        52  6.281853   1.081081         565  2.181467     37.85   \n",
       "...       ...       ...       ...        ...         ...       ...       ...   \n",
       "20417  1.5603        25  5.045455   1.133333         845  2.560606     39.48   \n",
       "20418  2.5568        18  6.114035   1.315789         356  3.122807     39.49   \n",
       "20419  1.7000        17  5.205543   1.120092        1007  2.325635     39.43   \n",
       "20420  1.8672        18  5.329513   1.171920         741  2.123209     39.43   \n",
       "20421  2.3886        16  5.254717   1.162264        1387  2.616981     39.37   \n",
       "\n",
       "       Longitude  Price  \n",
       "0        -122.23  4.526  \n",
       "1        -122.22  3.585  \n",
       "2        -122.24  3.521  \n",
       "3        -122.25  3.413  \n",
       "4        -122.25  3.422  \n",
       "...          ...    ...  \n",
       "20417    -121.09  0.781  \n",
       "20418    -121.21  0.771  \n",
       "20419    -121.22  0.923  \n",
       "20420    -121.32  0.847  \n",
       "20421    -121.24  0.894  \n",
       "\n",
       "[20422 rows x 9 columns]"
      ]
     },
     "execution_count": 2,
     "metadata": {},
     "output_type": "execute_result"
    }
   ],
   "source": [
    "data_dir = 'data'\n",
    "df = pd.read_csv(data_dir+'/calhousing_clean.csv')\n",
    "df"
   ]
  },
  {
   "cell_type": "markdown",
   "id": "9e7f34d0-c754-4f19-902a-e06add023778",
   "metadata": {},
   "source": [
    "## Create the model using Cross-Validation\n",
    "### Cross-Validation \n",
    "Cross-validation allows one to estimate the robustness of a predictive model by performing multiple train, test splits and evaluating the model with different distributions of the data.  Averaging the error or score of the models gives an estimate of the variability of the model's ability to generalize.\n",
    "### Standard Scalar\n",
    "The Standard Scalar scales each feature individually so they have a mean of 0 and a standard deviation of 1.  Using the Standard Scalar with linear regression allows the model to converge to a solution faster."
   ]
  },
  {
   "cell_type": "code",
   "execution_count": 3,
   "id": "e1d19b33-3ba7-4167-8a7d-4cdbd92e45b4",
   "metadata": {},
   "outputs": [
    {
     "name": "stdout",
     "output_type": "stream",
     "text": [
      "Mean R2 of linear regression model on the train set:\n",
      "0.665 ± 0.008\n",
      "Meean R2 of linear regression model on the test set:\n",
      "0.577 ± 0.049\n"
     ]
    }
   ],
   "source": [
    "# extract the features and target\n",
    "data = df.drop(columns = ['Price'])\n",
    "target = df.Price\n",
    "\n",
    "# build the pipeline so that for each iteration of the cross-validation the data will be preprocessed before the model is generated\n",
    "linear_regression = make_pipeline(StandardScaler(),\n",
    "                                  LinearRegression())\n",
    "\n",
    "# build 10 models each with different train / test splits\n",
    "cv_results = cross_validate(linear_regression, data, target,\n",
    "                            cv=10, scoring=\"r2\",\n",
    "                            return_train_score=True,\n",
    "                            return_estimator=True)\n",
    "\n",
    "# print the average training score and standard deviation of the models\n",
    "train_score = cv_results[\"train_score\"]\n",
    "print(f\"Mean R2 of linear regression model on the train set:\\n\"\n",
    "      f\"{train_score.mean():.3f} ± {train_score.std():.3f}\")\n",
    "\n",
    "# print the average test score and standard deviation of the models\n",
    "test_score = cv_results[\"test_score\"]\n",
    "print(f\"Meean R2 of linear regression model on the test set:\\n\"\n",
    "      f\"{test_score.mean():.3f} ± {test_score.std():.3f}\")"
   ]
  },
  {
   "cell_type": "markdown",
   "id": "737b4f55-f4a3-4760-93e6-2bd587734036",
   "metadata": {},
   "source": [
    "### The train and test scores for each iteration of the cross validation"
   ]
  },
  {
   "cell_type": "code",
   "execution_count": 4,
   "id": "9daeb1cc-296c-4601-91e2-1671457767d5",
   "metadata": {},
   "outputs": [
    {
     "data": {
      "text/plain": [
       "array([0.6690158 , 0.65425227, 0.67444806, 0.6689655 , 0.66036891,\n",
       "       0.66987639, 0.65917761, 0.67628172, 0.65492759, 0.6604395 ])"
      ]
     },
     "execution_count": 4,
     "metadata": {},
     "output_type": "execute_result"
    }
   ],
   "source": [
    "cv_results[\"train_score\"]"
   ]
  },
  {
   "cell_type": "code",
   "execution_count": 5,
   "id": "7d3cc918-8649-4453-ad60-8a665367ba73",
   "metadata": {},
   "outputs": [
    {
     "data": {
      "text/plain": [
       "array([0.55764552, 0.64918494, 0.54948308, 0.58866066, 0.65163572,\n",
       "       0.59406709, 0.51370939, 0.52662954, 0.52207065, 0.62070264])"
      ]
     },
     "execution_count": 5,
     "metadata": {},
     "output_type": "execute_result"
    }
   ],
   "source": [
    "cv_results[\"test_score\"]"
   ]
  },
  {
   "cell_type": "markdown",
   "id": "70135dc8-b5f8-480c-bca1-de9af2091cd3",
   "metadata": {},
   "source": [
    "## Coefficients \n",
    "Create a boxplot of the coefficients for each feature to show the variability of each coefficient for the models generated by the cross-validation."
   ]
  },
  {
   "cell_type": "code",
   "execution_count": 9,
   "id": "f276d6c7-52af-4ab5-a6f9-d4c89c56764c",
   "metadata": {},
   "outputs": [
    {
     "data": {
      "image/png": "[encoded data removed]",
      "text/plain": [
       "<Figure size 600x1600 with 1 Axes>"
      ]
     },
     "metadata": {},
     "output_type": "display_data"
    }
   ],
   "source": [
    "coefs = [est[-1].coef_ for est in cv_results[\"estimator\"]]\n",
    "weights_linear = pd.DataFrame(coefs, columns=data.columns)\n",
    "\n",
    "color = {\"whiskers\": \"green\", \"medians\": \"green\", \"caps\": \"green\"}\n",
    "\n",
    "plt.style.use(\"dark_background\");\n",
    "weights_linear.plot.box(color=color, vert=False, figsize=(6, 16))\n",
    "_ = plt.title(\"Linear weights with data scaling\")"
   ]
  },
  {
   "cell_type": "markdown",
   "id": "6ae785fe-163a-4004-a5d8-5850a85fbd27",
   "metadata": {},
   "source": [
    "### The coefficients for each iteration of cross-validation"
   ]
  },
  {
   "cell_type": "code",
   "execution_count": 10,
   "id": "852b30f2-c33b-4d6d-aa82-4095bb8b89d3",
   "metadata": {},
   "outputs": [
    {
     "data": {
      "text/html": [
       "<div>\n",
       "<style scoped>\n",
       "    .dataframe tbody tr th:only-of-type {\n",
       "        vertical-align: middle;\n",
       "    }\n",
       "\n",
       "    .dataframe tbody tr th {\n",
       "        vertical-align: top;\n",
       "    }\n",
       "\n",
       "    .dataframe thead th {\n",
       "        text-align: right;\n",
       "    }\n",
       "</style>\n",
       "<table border=\"1\" class=\"dataframe\">\n",
       "  <thead>\n",
       "    <tr style=\"text-align: right;\">\n",
       "      <th></th>\n",
       "      <th>MedInc</th>\n",
       "      <th>HouseAge</th>\n",
       "      <th>AveRooms</th>\n",
       "      <th>AveBedrms</th>\n",
       "      <th>Population</th>\n",
       "      <th>AveOccup</th>\n",
       "      <th>Latitude</th>\n",
       "      <th>Longitude</th>\n",
       "    </tr>\n",
       "  </thead>\n",
       "  <tbody>\n",
       "    <tr>\n",
       "      <th>0</th>\n",
       "      <td>0.809504</td>\n",
       "      <td>0.155825</td>\n",
       "      <td>-0.135651</td>\n",
       "      <td>0.127596</td>\n",
       "      <td>0.044120</td>\n",
       "      <td>-0.274795</td>\n",
       "      <td>-0.964452</td>\n",
       "      <td>-0.916311</td>\n",
       "    </tr>\n",
       "    <tr>\n",
       "      <th>1</th>\n",
       "      <td>0.807949</td>\n",
       "      <td>0.143082</td>\n",
       "      <td>-0.120110</td>\n",
       "      <td>0.127954</td>\n",
       "      <td>0.039579</td>\n",
       "      <td>-0.270454</td>\n",
       "      <td>-0.906463</td>\n",
       "      <td>-0.844867</td>\n",
       "    </tr>\n",
       "    <tr>\n",
       "      <th>2</th>\n",
       "      <td>0.791677</td>\n",
       "      <td>0.134114</td>\n",
       "      <td>-0.092525</td>\n",
       "      <td>0.114421</td>\n",
       "      <td>0.036423</td>\n",
       "      <td>-0.238016</td>\n",
       "      <td>-0.924991</td>\n",
       "      <td>-0.876677</td>\n",
       "    </tr>\n",
       "    <tr>\n",
       "      <th>3</th>\n",
       "      <td>0.837167</td>\n",
       "      <td>0.139969</td>\n",
       "      <td>-0.144082</td>\n",
       "      <td>0.131631</td>\n",
       "      <td>0.040736</td>\n",
       "      <td>-0.258972</td>\n",
       "      <td>-0.944241</td>\n",
       "      <td>-0.875396</td>\n",
       "    </tr>\n",
       "    <tr>\n",
       "      <th>4</th>\n",
       "      <td>0.802710</td>\n",
       "      <td>0.138145</td>\n",
       "      <td>-0.131418</td>\n",
       "      <td>0.121470</td>\n",
       "      <td>0.048521</td>\n",
       "      <td>-0.245248</td>\n",
       "      <td>-0.936410</td>\n",
       "      <td>-0.876917</td>\n",
       "    </tr>\n",
       "    <tr>\n",
       "      <th>5</th>\n",
       "      <td>0.814342</td>\n",
       "      <td>0.144567</td>\n",
       "      <td>-0.149505</td>\n",
       "      <td>0.122053</td>\n",
       "      <td>0.051906</td>\n",
       "      <td>-0.273432</td>\n",
       "      <td>-0.924084</td>\n",
       "      <td>-0.850134</td>\n",
       "    </tr>\n",
       "    <tr>\n",
       "      <th>6</th>\n",
       "      <td>0.835309</td>\n",
       "      <td>0.149291</td>\n",
       "      <td>-0.142182</td>\n",
       "      <td>0.132113</td>\n",
       "      <td>0.049330</td>\n",
       "      <td>-0.274767</td>\n",
       "      <td>-0.891744</td>\n",
       "      <td>-0.809384</td>\n",
       "    </tr>\n",
       "    <tr>\n",
       "      <th>7</th>\n",
       "      <td>0.812862</td>\n",
       "      <td>0.096971</td>\n",
       "      <td>-0.117856</td>\n",
       "      <td>0.106633</td>\n",
       "      <td>0.028625</td>\n",
       "      <td>-0.264779</td>\n",
       "      <td>-0.900073</td>\n",
       "      <td>-0.777238</td>\n",
       "    </tr>\n",
       "    <tr>\n",
       "      <th>8</th>\n",
       "      <td>0.794183</td>\n",
       "      <td>0.136487</td>\n",
       "      <td>-0.147854</td>\n",
       "      <td>0.135492</td>\n",
       "      <td>0.041935</td>\n",
       "      <td>-0.266228</td>\n",
       "      <td>-0.917006</td>\n",
       "      <td>-0.793240</td>\n",
       "    </tr>\n",
       "    <tr>\n",
       "      <th>9</th>\n",
       "      <td>0.840676</td>\n",
       "      <td>0.148236</td>\n",
       "      <td>-0.143841</td>\n",
       "      <td>0.130443</td>\n",
       "      <td>0.047791</td>\n",
       "      <td>-0.275408</td>\n",
       "      <td>-0.923680</td>\n",
       "      <td>-0.880982</td>\n",
       "    </tr>\n",
       "  </tbody>\n",
       "</table>\n",
       "</div>"
      ],
      "text/plain": [
       "     MedInc  HouseAge  AveRooms  AveBedrms  Population  AveOccup  Latitude  \\\n",
       "0  0.809504  0.155825 -0.135651   0.127596    0.044120 -0.274795 -0.964452   \n",
       "1  0.807949  0.143082 -0.120110   0.127954    0.039579 -0.270454 -0.906463   \n",
       "2  0.791677  0.134114 -0.092525   0.114421    0.036423 -0.238016 -0.924991   \n",
       "3  0.837167  0.139969 -0.144082   0.131631    0.040736 -0.258972 -0.944241   \n",
       "4  0.802710  0.138145 -0.131418   0.121470    0.048521 -0.245248 -0.936410   \n",
       "5  0.814342  0.144567 -0.149505   0.122053    0.051906 -0.273432 -0.924084   \n",
       "6  0.835309  0.149291 -0.142182   0.132113    0.049330 -0.274767 -0.891744   \n",
       "7  0.812862  0.096971 -0.117856   0.106633    0.028625 -0.264779 -0.900073   \n",
       "8  0.794183  0.136487 -0.147854   0.135492    0.041935 -0.266228 -0.917006   \n",
       "9  0.840676  0.148236 -0.143841   0.130443    0.047791 -0.275408 -0.923680   \n",
       "\n",
       "   Longitude  \n",
       "0  -0.916311  \n",
       "1  -0.844867  \n",
       "2  -0.876677  \n",
       "3  -0.875396  \n",
       "4  -0.876917  \n",
       "5  -0.850134  \n",
       "6  -0.809384  \n",
       "7  -0.777238  \n",
       "8  -0.793240  \n",
       "9  -0.880982  "
      ]
     },
     "execution_count": 10,
     "metadata": {},
     "output_type": "execute_result"
    }
   ],
   "source": [
    "weights_linear"
   ]
  },
  {
   "cell_type": "markdown",
   "id": "648037e5-b801-4213-a70b-afaf545cf9ed",
   "metadata": {},
   "source": [
    "## Remove Population\n",
    "The coefficient for Population is close to zero so we should be able to remove it.\n",
    "\n",
    "Removing Population the training R2 score decreases but the testing R2 score remains the same which implies that the model is overfitting less.  A rule of thumb is that the simplest model is the best so the model that does not include Population as a feature is the preferred model."
   ]
  },
  {
   "cell_type": "code",
   "execution_count": 11,
   "id": "ce5a519a-e4d3-4600-82f8-ef9ac32e7850",
   "metadata": {},
   "outputs": [
    {
     "name": "stdout",
     "output_type": "stream",
     "text": [
      "Mean R2 score of linear regression model on the train set:\n",
      "0.664 ± 0.008\n",
      "Mean R2 error of linear regression model on the test set:\n",
      "0.577 ± 0.049\n"
     ]
    }
   ],
   "source": [
    "data = df.drop(columns = ['Population', 'Price'])\n",
    "\n",
    "cv_results = cross_validate(linear_regression, data, target,\n",
    "                            cv=10, scoring=\"r2\",\n",
    "                            return_train_score=True,\n",
    "                            return_estimator=True)\n",
    "\n",
    "train_score = cv_results[\"train_score\"]\n",
    "print(f\"Mean R2 score of linear regression model on the train set:\\n\"\n",
    "      f\"{train_score.mean():.3f} ± {train_score.std():.3f}\")\n",
    "\n",
    "test_score = cv_results[\"test_score\"]\n",
    "print(f\"Mean R2 error of linear regression model on the test set:\\n\"\n",
    "      f\"{test_score.mean():.3f} ± {test_score.std():.3f}\")"
   ]
  },
  {
   "cell_type": "code",
   "execution_count": 12,
   "id": "61adaebd-5605-4e19-a7ff-8a790ad7a001",
   "metadata": {},
   "outputs": [
    {
     "data": {
      "image/png": "[encoded data removed]",
      "text/plain": [
       "<Figure size 600x1600 with 1 Axes>"
      ]
     },
     "metadata": {},
     "output_type": "display_data"
    }
   ],
   "source": [
    "coefs = [est[-1].coef_ for est in cv_results[\"estimator\"]]\n",
    "weights_linear = pd.DataFrame(coefs, columns=data.columns)\n",
    "\n",
    "color = {\"whiskers\": \"green\", \"medians\": \"green\", \"caps\": \"green\"}\n",
    "\n",
    "plt.style.use(\"dark_background\");\n",
    "weights_linear.plot.box(color=color, vert=False, figsize=(6, 16))\n",
    "_ = plt.title(\"Linear weights with data scaling\")"
   ]
  },
  {
   "cell_type": "code",
   "execution_count": null,
   "id": "efa731b4-25c5-48c8-8b72-3bc02e59aeb9",
   "metadata": {},
   "outputs": [],
   "source": []
  }
 ],
 "metadata": {
  "kernelspec": {
   "display_name": "Python 3 (ipykernel)",
   "language": "python",
   "name": "python3"
  },
  "language_info": {
   "codemirror_mode": {
    "name": "ipython",
    "version": 3
   },
   "file_extension": ".py",
   "mimetype": "text/x-python",
   "name": "python",
   "nbconvert_exporter": "python",
   "pygments_lexer": "ipython3",
   "version": "3.10.6"
  }
 },
 "nbformat": 4,
 "nbformat_minor": 5
}
